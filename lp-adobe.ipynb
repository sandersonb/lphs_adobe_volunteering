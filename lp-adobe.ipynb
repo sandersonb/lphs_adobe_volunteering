{
  "nbformat": 4,
  "nbformat_minor": 0,
  "metadata": {
    "colab": {
      "name": "Untitled0.ipynb",
      "provenance": [],
      "collapsed_sections": [],
      "include_colab_link": true
    },
    "kernelspec": {
      "name": "python3",
      "display_name": "Python 3"
    }
  },
  "cells": [
    {
      "cell_type": "markdown",
      "metadata": {
        "id": "view-in-github",
        "colab_type": "text"
      },
      "source": [
        "<a href=\"https://colab.research.google.com/github/sandersonb/lphs_adobe_volunteering/blob/master/lp-adobe.ipynb\" target=\"_parent\"><img src=\"https://colab.research.google.com/assets/colab-badge.svg\" alt=\"Open In Colab\"/></a>"
      ]
    },
    {
      "cell_type": "code",
      "metadata": {
        "id": "o2YuCv-Qdt1O",
        "colab_type": "code",
        "colab": {}
      },
      "source": [
        "\n",
        "import random\n",
        "\n",
        "from lib.adobeanalytics import track\n",
        "\n",
        "# TODO: Please fill out your student ID:\n",
        "MY_STUDENT_ID = \"bsanders\"\n",
        "\n",
        "\n",
        "def fizzbuzz(number: int) -> str:\n",
        "    \"\"\"\n",
        "    TODO: Fill out your answer here\n",
        "    Fizzbuzz: print each number on a new line.\n",
        "    If the number if a multiple of 3, return \"Fizz\" instead of the number.\n",
        "    If the number is a multiple of 5, return \"Buzz\" instead of the number.\n",
        "    If the number is a multiple of both, return \"FizzBuzz\" instead of the number.\n",
        "    :param number:\n",
        "    :return: your answer\n",
        "    \"\"\"\n",
        "\n",
        "    # ONE ANSWER (delete-me before handing out)\n",
        "    t = number % 3 == 0\n",
        "    f = number % 5 == 0\n",
        "    return \"%s%s%s\" % ((\"Fizz\" if t else \"\"), (\"Buzz\" if f else \"\"), number if not (t or f) else \"\")\n",
        "\n",
        "\n",
        "if __name__ == '__main__':\n",
        "    \"\"\"\n",
        "    You can change this function if you want, but you don't need to.\n",
        "    \"\"\"\n",
        "    for i in range(10):\n",
        "        function_input = random.randint(1, 100)\n",
        "        function_output = fizzbuzz(function_input)\n",
        "        track('fizzbuzz', MY_STUDENT_ID, str(function_input), function_output)\n",
        "        print(\"fizzbuzz(%s) = %s\" % (function_input, function_output))\n"
      ],
      "execution_count": 0,
      "outputs": []
    }
  ]
}