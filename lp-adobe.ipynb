{
  "nbformat": 4,
  "nbformat_minor": 0,
  "metadata": {
    "colab": {
      "name": "Lone Peak Adobe Volunteer Project.ipynb",
      "provenance": [],
      "collapsed_sections": [],
      "include_colab_link": true
    },
    "kernelspec": {
      "name": "python3",
      "display_name": "Python 3"
    }
  },
  "cells": [
    {
      "cell_type": "markdown",
      "metadata": {
        "id": "view-in-github",
        "colab_type": "text"
      },
      "source": [
        "<a href=\"https://colab.research.google.com/github/sandersonb/lphs_adobe_volunteering/blob/master/lp-adobe.ipynb\" target=\"_parent\"><img src=\"https://colab.research.google.com/assets/colab-badge.svg\" alt=\"Open In Colab\"/></a>"
      ]
    },
    {
      "cell_type": "code",
      "metadata": {
        "id": "YYr_9n23iows",
        "colab_type": "code",
        "outputId": "7847febb-f6a8-4155-e7c0-784de73a1c54",
        "colab": {
          "base_uri": "https://localhost:8080/",
          "height": 136
        }
      },
      "source": [
        "!git clone -l -s https://github.com/sandersonb/lphs_adobe_volunteering.git lphs\n",
        "!cp -R lphs/lib ."
      ],
      "execution_count": 1,
      "outputs": [
        {
          "output_type": "stream",
          "text": [
            "Cloning into 'lphs'...\n",
            "warning: --local is ignored\n",
            "remote: Enumerating objects: 19, done.\u001b[K\n",
            "remote: Counting objects: 100% (19/19), done.\u001b[K\n",
            "remote: Compressing objects: 100% (16/16), done.\u001b[K\n",
            "remote: Total 19 (delta 5), reused 9 (delta 2), pack-reused 0\u001b[K\n",
            "Unpacking objects: 100% (19/19), done.\n"
          ],
          "name": "stdout"
        }
      ]
    },
    {
      "cell_type": "code",
      "metadata": {
        "id": "o2YuCv-Qdt1O",
        "colab_type": "code",
        "outputId": "be322c6c-32fc-4bfa-a35e-0391711e3311",
        "colab": {
          "base_uri": "https://localhost:8080/",
          "height": 187
        }
      },
      "source": [
        "\n",
        "import random\n",
        "\n",
        "from lib.adobeanalytics import track\n",
        "\n",
        "# TODO: Please fill out your student ID:\n",
        "MY_STUDENT_ID = \"bsanders\"\n",
        "\n",
        "\n",
        "def fizzbuzz(number: int) -> str:\n",
        "    \"\"\"\n",
        "    TODO: Fill out your answer here\n",
        "    Fizzbuzz: print each number on a new line.\n",
        "    If the number if a multiple of 3, return \"Fizz\" instead of the number.\n",
        "    If the number is a multiple of 5, return \"Buzz\" instead of the number.\n",
        "    If the number is a multiple of both, return \"FizzBuzz\" instead of the number.\n",
        "    :param number:\n",
        "    :return: your answer\n",
        "    \"\"\"\n",
        "    \n",
        "    return \"Fix this!\"\n",
        "\n",
        "\n",
        "if __name__ == '__main__':\n",
        "    \"\"\"\n",
        "    You can change this function if you want, but you don't need to.\n",
        "    \"\"\"\n",
        "    for i in range(10):\n",
        "        function_input = random.randint(1, 100)\n",
        "        function_output = fizzbuzz(function_input)\n",
        "        track('fizzbuzz', MY_STUDENT_ID, str(function_input), function_output)\n",
        "        print(\"fizzbuzz(%s) = %s\" % (function_input, function_output))\n"
      ],
      "execution_count": 4,
      "outputs": [
        {
          "output_type": "stream",
          "text": [
            "fizzbuzz(96) = \n",
            "fizzbuzz(37) = \n",
            "fizzbuzz(73) = \n",
            "fizzbuzz(94) = \n",
            "fizzbuzz(44) = \n",
            "fizzbuzz(25) = \n",
            "fizzbuzz(65) = \n",
            "fizzbuzz(69) = \n",
            "fizzbuzz(52) = \n",
            "fizzbuzz(80) = \n"
          ],
          "name": "stdout"
        }
      ]
    },
    {
      "cell_type": "code",
      "metadata": {
        "id": "qOcW-ijoj8pc",
        "colab_type": "code",
        "colab": {
          "base_uri": "https://localhost:8080/",
          "height": 187
        },
        "outputId": "01119858-db2d-48d4-ff82-04933e7dcb0e"
      },
      "source": [
        "import random\n",
        "\n",
        "from lib.adobeanalytics import track\n",
        "\n",
        "# TODO: Please fill out your student ID:\n",
        "MY_STUDENT_ID = \"bsanders\"\n",
        "\n",
        "\n",
        "def spell_number(number: int) -> str:\n",
        "    \"\"\"\n",
        "    TODO: Fill out your answer here\n",
        "    Spell Number: spell out the english version of the number on a new line.\n",
        "    For example, 42 should become \"fourty-two\" and 6 should become \"six\"\n",
        "    :param number: the input integer value < 100 and >= 0\n",
        "    :return: your answer\n",
        "    \"\"\"\n",
        "\n",
        "    return \"Fix this!\"\n",
        "\n",
        "\n",
        "if __name__ == '__main__':\n",
        "    \"\"\"\n",
        "    You can change this function if you want, but you don't need to.\n",
        "    \"\"\"\n",
        "    for i in range(10):\n",
        "        function_input = random.randint(1, 99)\n",
        "        function_output = spell_number(function_input)\n",
        "        track('spell_number', MY_STUDENT_ID, str(function_input), function_output)\n",
        "        print(\"spell_number(%s) = %s\" % (function_input, function_output))"
      ],
      "execution_count": 5,
      "outputs": [
        {
          "output_type": "stream",
          "text": [
            "spell_number(8) = Implement me\n",
            "spell_number(96) = Implement me\n",
            "spell_number(17) = Implement me\n",
            "spell_number(32) = Implement me\n",
            "spell_number(45) = Implement me\n",
            "spell_number(48) = Implement me\n",
            "spell_number(79) = Implement me\n",
            "spell_number(33) = Implement me\n",
            "spell_number(22) = Implement me\n",
            "spell_number(77) = Implement me\n"
          ],
          "name": "stdout"
        }
      ]
    }
  ]
}